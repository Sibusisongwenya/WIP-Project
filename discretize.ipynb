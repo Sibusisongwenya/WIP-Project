{
  "nbformat": 4,
  "nbformat_minor": 0,
  "metadata": {
    "colab": {
      "provenance": [],
      "authorship_tag": "ABX9TyPRf2rjKCcjmphHt2mf/Tv+",
      "include_colab_link": true
    },
    "kernelspec": {
      "name": "python3",
      "display_name": "Python 3"
    },
    "language_info": {
      "name": "python"
    }
  },
  "cells": [
    {
      "cell_type": "markdown",
      "metadata": {
        "id": "view-in-github",
        "colab_type": "text"
      },
      "source": [
        "<a href=\"https://colab.research.google.com/github/Sibusisongwenya/WIP-Project/blob/main/discretize.ipynb\" target=\"_parent\"><img src=\"https://colab.research.google.com/assets/colab-badge.svg\" alt=\"Open In Colab\"/></a>"
      ]
    },
    {
      "cell_type": "code",
      "execution_count": null,
      "metadata": {
        "id": "qRfRVsmiRYL_"
      },
      "outputs": [],
      "source": [
        "# utils/helpers.py\n",
        "\n",
        "import numpy as np\n",
        "from scipy.stats import norm\n",
        "\n",
        "def discretize_to_four_class(prediction, boundaries=[0.5, 1.5, 2.5]):\n",
        "    \"\"\"\n",
        "    Discretizes a continuous Mayo score prediction into one of four classes: 0, 1, 2, or 3.\n",
        "    \"\"\"\n",
        "    return int(np.digitize(prediction, boundaries, right=False))\n",
        "\n",
        "def discretize_binary(prediction, threshold=1.5):\n",
        "    \"\"\"\n",
        "    Discretizes a continuous Mayo score prediction into a binary label:\n",
        "    0 for remission (if prediction < threshold), 1 for non-remission (if prediction >= threshold).\n",
        "    \"\"\"\n",
        "    return 0 if prediction < threshold else 1\n",
        "\n",
        "def entropy_confidence(probs):\n",
        "    \"\"\"\n",
        "    Computes entropy-based confidence for each sample.\n",
        "    Returns a confidence value (between 0 and 1) for each sample, where 1 means highest confidence.\n",
        "    \"\"\"\n",
        "    epsilon = 1e-10\n",
        "    entropy = -np.sum(probs * np.log(probs + epsilon), axis=1)\n",
        "    max_entropy = np.log(probs.shape[1])\n",
        "    conf = 1 - (entropy / max_entropy)\n",
        "    return conf\n",
        "\n",
        "\n",
        "def ci_confidence(stds: np.ndarray, confidence_level: float = 0.95) -> np.ndarray:\n",
        "    \"\"\"\n",
        "    Calculates the widths of the confidence intervals based on the provided standard deviations.\n",
        "\n",
        "    Args:\n",
        "        stds (np.ndarray): Standard deviations of the predictions.\n",
        "        confidence_level (float): The desired confidence level (default: 0.95).\n",
        "\n",
        "    Returns:\n",
        "        np.ndarray: Widths of the confidence intervals.\n",
        "    \"\"\"\n",
        "    # Calculate the critical z-score for the given confidence level.\n",
        "    z_score = norm.ppf((1 + confidence_level) / 2)\n",
        "\n",
        "    # Calculate the confidence interval width for each standard deviation.\n",
        "    ci_widths = np.where(stds != 0, 2 * z_score * stds, 0)\n",
        "\n",
        "    return ci_widths\n",
        "\n",
        "def uncertainty_degree(probs):\n",
        "    \"\"\"\n",
        "    Computes uncertainty degree as a percentage based on the maximum probability.\n",
        "    Lower maximum probability indicates higher uncertainty.\n",
        "    \"\"\"\n",
        "    max_prob = np.max(probs, axis=1)\n",
        "    return 100 * (1 - max_prob)\n",
        "\n",
        "def probability_based_confidence(probs):\n",
        "    \"\"\"\n",
        "    Computes probability-based confidence by taking the maximum probability from each sample's\n",
        "    predicted probability distribution and then averaging these values.\n",
        "\n",
        "    Args:\n",
        "        probs (numpy.ndarray): Array of predicted probabilities with shape (N, num_classes).\n",
        "\n",
        "    Returns:\n",
        "        float: The average maximum probability (value between 0 and 1).\n",
        "    \"\"\"\n",
        "    return np.mean(np.max(probs, axis=1))\n"
      ]
    }
  ]
}