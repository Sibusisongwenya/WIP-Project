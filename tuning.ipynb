{
  "nbformat": 4,
  "nbformat_minor": 0,
  "metadata": {
    "colab": {
      "provenance": [],
      "machine_shape": "hm",
      "authorship_tag": "ABX9TyP3xJGC2/w8KZVSAtisJ40h",
      "include_colab_link": true
    },
    "kernelspec": {
      "name": "python3",
      "display_name": "Python 3"
    },
    "language_info": {
      "name": "python"
    }
  },
  "cells": [
    {
      "cell_type": "markdown",
      "metadata": {
        "id": "view-in-github",
        "colab_type": "text"
      },
      "source": [
        "<a href=\"https://colab.research.google.com/github/Sibusisongwenya/WIP-Project/blob/main/tuning.ipynb\" target=\"_parent\"><img src=\"https://colab.research.google.com/assets/colab-badge.svg\" alt=\"Open In Colab\"/></a>"
      ]
    },
    {
      "cell_type": "code",
      "source": [
        "from google.colab import drive\n",
        "drive.mount('/content/drive')"
      ],
      "metadata": {
        "colab": {
          "base_uri": "https://localhost:8080/"
        },
        "id": "uwuYD0Lo4R00",
        "outputId": "886b1253-f538-4f9e-fa39-9176e8340e0e"
      },
      "execution_count": null,
      "outputs": [
        {
          "output_type": "stream",
          "name": "stdout",
          "text": [
            "Drive already mounted at /content/drive; to attempt to forcibly remount, call drive.mount(\"/content/drive\", force_remount=True).\n"
          ]
        }
      ]
    },
    {
      "cell_type": "code",
      "source": [
        "import os\n",
        "import sys\n",
        "# Append the project root to the Python path\n",
        "sys.path.append('/content/drive/MyDrive/uc')\n",
        "!pip install torchbnn\n",
        "os.chdir(\"/content/drive/MyDrive/uc\")\n",
        "print(\"Current working directory:\", os.getcwd())"
      ],
      "metadata": {
        "colab": {
          "base_uri": "https://localhost:8080/"
        },
        "id": "7WELhVcQ3vGe",
        "outputId": "4b55cff9-96fe-47ca-ad5e-0a4048c3c248"
      },
      "execution_count": null,
      "outputs": [
        {
          "output_type": "stream",
          "name": "stdout",
          "text": [
            "Requirement already satisfied: torchbnn in /usr/local/lib/python3.11/dist-packages (1.2)\n",
            "Current working directory: /content/drive/MyDrive/uc\n"
          ]
        }
      ]
    },
    {
      "cell_type": "code",
      "source": [
        "!pip install optuna"
      ],
      "metadata": {
        "colab": {
          "base_uri": "https://localhost:8080/"
        },
        "id": "PhaOpr0h7JwO",
        "outputId": "e65be87b-6329-4bdb-af22-b634fe4a1fbb"
      },
      "execution_count": null,
      "outputs": [
        {
          "output_type": "stream",
          "name": "stdout",
          "text": [
            "Requirement already satisfied: optuna in /usr/local/lib/python3.11/dist-packages (4.2.1)\n",
            "Requirement already satisfied: alembic>=1.5.0 in /usr/local/lib/python3.11/dist-packages (from optuna) (1.15.1)\n",
            "Requirement already satisfied: colorlog in /usr/local/lib/python3.11/dist-packages (from optuna) (6.9.0)\n",
            "Requirement already satisfied: numpy in /usr/local/lib/python3.11/dist-packages (from optuna) (2.0.2)\n",
            "Requirement already satisfied: packaging>=20.0 in /usr/local/lib/python3.11/dist-packages (from optuna) (24.2)\n",
            "Requirement already satisfied: sqlalchemy>=1.4.2 in /usr/local/lib/python3.11/dist-packages (from optuna) (2.0.39)\n",
            "Requirement already satisfied: tqdm in /usr/local/lib/python3.11/dist-packages (from optuna) (4.67.1)\n",
            "Requirement already satisfied: PyYAML in /usr/local/lib/python3.11/dist-packages (from optuna) (6.0.2)\n",
            "Requirement already satisfied: Mako in /usr/local/lib/python3.11/dist-packages (from alembic>=1.5.0->optuna) (1.3.9)\n",
            "Requirement already satisfied: typing-extensions>=4.12 in /usr/local/lib/python3.11/dist-packages (from alembic>=1.5.0->optuna) (4.12.2)\n",
            "Requirement already satisfied: greenlet!=0.4.17 in /usr/local/lib/python3.11/dist-packages (from sqlalchemy>=1.4.2->optuna) (3.1.1)\n",
            "Requirement already satisfied: MarkupSafe>=0.9.2 in /usr/local/lib/python3.11/dist-packages (from Mako->alembic>=1.5.0->optuna) (3.0.2)\n"
          ]
        }
      ]
    },
    {
      "cell_type": "code",
      "source": [
        "#!/usr/bin/env python\n",
        "# tuning_optuna.py\n",
        "\n",
        "import os\n",
        "import random\n",
        "import logging\n",
        "import numpy as np\n",
        "import torch\n",
        "import torch.nn as nn\n",
        "import torch.optim as optim\n",
        "from torch.utils.data import DataLoader\n",
        "from torchvision import transforms\n",
        "import optuna\n",
        "import wandb\n",
        "\n",
        "# Import modules from your project\n",
        "from dataset.ucmayo4 import UCMayo4\n",
        "from utils.magic import BayesianDenseNet121_LLSVI, DenseNet121_LLDropout\n",
        "\n",
        "# ---------------------------\n",
        "# Configuration\n",
        "# ---------------------------\n",
        "RANDOM_SEED = 35\n",
        "random.seed(RANDOM_SEED)\n",
        "np.random.seed(RANDOM_SEED)\n",
        "torch.manual_seed(RANDOM_SEED)\n",
        "if torch.cuda.is_available():\n",
        "    torch.cuda.manual_seed_all(RANDOM_SEED)\n",
        "\n",
        "DEVICE = torch.device(\"cuda\" if torch.cuda.is_available() else \"cpu\")\n",
        "logging.basicConfig(level=logging.INFO, format=\"%(asctime)s - %(levelname)s - %(message)s\")\n",
        "\n",
        "# Directories for your data\n",
        "TRAIN_DIR = \"/content/drive/MyDrive/uc/test_set/train\"\n",
        "VAL_DIR   = \"/content/drive/MyDrive/uc/test_set/val\"\n",
        "\n",
        "# Combined loss function (MSE + beta * KL)\n",
        "def combined_loss(outputs, targets, model, epoch, total_epochs, use_bayesian=True):\n",
        "    mse = nn.MSELoss()(outputs, targets)\n",
        "    if use_bayesian and hasattr(model, \"kl_loss\"):\n",
        "        beta = min(1.0, (epoch + 1) / total_epochs)\n",
        "        return mse + beta * model.kl_loss()\n",
        "    else:\n",
        "        return mse\n",
        "\n",
        "def create_transform(resize=256, normalize=True, augment=True):\n",
        "    transform_list = [transforms.Resize((resize, resize))]\n",
        "    if augment:\n",
        "        transform_list.extend([\n",
        "            transforms.RandomHorizontalFlip(),\n",
        "            transforms.RandomRotation(20)\n",
        "        ])\n",
        "    transform_list.append(transforms.ToTensor())\n",
        "    if normalize:\n",
        "        transform_list.append(transforms.Normalize(mean=[0.485, 0.456, 0.406],\n",
        "                                                   std=[0.229, 0.224, 0.225]))\n",
        "    return transforms.Compose(transform_list)\n",
        "\n",
        "def objective(trial):\n",
        "    \"\"\"\n",
        "    Optuna objective function that trains either Bayesian or MC-Dropout model\n",
        "    on the UC Mayo dataset for a fixed number of epochs, returning a combined metric.\n",
        "    \"\"\"\n",
        "\n",
        "    # --------------------------\n",
        "    # Hyperparameters from Optuna\n",
        "    # --------------------------\n",
        "    model_type = trial.suggest_categorical(\"model_type\", [\"Bayesian\", \"Dropout\"])\n",
        "    dropout_rate = trial.suggest_categorical(\"dropout_rate\", [0.2, 0.3, 0.5])\n",
        "    learning_rate = trial.suggest_loguniform(\"learning_rate\", 1e-4, 1e-2)\n",
        "    batch_size = trial.suggest_categorical(\"batch_size\", [16, 32, 64])\n",
        "    epochs = 25  # e.g., fixed at 25\n",
        "\n",
        "    # Initialize a wandb run for each trial\n",
        "    wandb_run = wandb.init(\n",
        "        project=\"my-ucmayo4-tuning-optuna\",\n",
        "        config={\n",
        "            \"model_type\": model_type,\n",
        "            \"dropout_rate\": dropout_rate,\n",
        "            \"learning_rate\": learning_rate,\n",
        "            \"batch_size\": batch_size,\n",
        "            \"epochs\": epochs\n",
        "        },\n",
        "        reinit=True\n",
        "    )\n",
        "\n",
        "    # --------------------------\n",
        "    # Data Loading\n",
        "    # --------------------------\n",
        "    train_transform = create_transform(256, normalize=True, augment=True)\n",
        "    val_transform   = create_transform(256, normalize=True, augment=False)\n",
        "\n",
        "    train_dataset = UCMayo4(root_dir=TRAIN_DIR, transform=train_transform)\n",
        "    val_dataset   = UCMayo4(root_dir=VAL_DIR,   transform=val_transform)\n",
        "\n",
        "    train_loader = DataLoader(train_dataset, batch_size=batch_size, shuffle=True,  pin_memory=True)\n",
        "    val_loader   = DataLoader(val_dataset,   batch_size=batch_size, shuffle=False, pin_memory=True)\n",
        "\n",
        "    # --------------------------\n",
        "    # Model Instantiation\n",
        "    # --------------------------\n",
        "    if model_type == \"Bayesian\":\n",
        "        model = BayesianDenseNet121_LLSVI(pretrained=True).to(DEVICE)\n",
        "        use_bayesian = True\n",
        "    else:  # \"Dropout\"\n",
        "        model = DenseNet121_LLDropout(pretrained=True, dropout_prob=dropout_rate).to(DEVICE)\n",
        "        use_bayesian = False\n",
        "\n",
        "    optimizer = optim.Adam(model.parameters(), lr=learning_rate)\n",
        "\n",
        "    best_combined_score = -float(\"inf\")\n",
        "\n",
        "    # --------------------------\n",
        "    # Training Loop\n",
        "    # --------------------------\n",
        "    for epoch in range(epochs):\n",
        "        model.train()\n",
        "        running_loss, total_samples = 0.0, 0\n",
        "\n",
        "        for images, targets in train_loader:\n",
        "            images = images.to(DEVICE, non_blocking=True)\n",
        "            targets = targets.to(DEVICE, non_blocking=True).float().unsqueeze(1)\n",
        "\n",
        "            optimizer.zero_grad()\n",
        "            outputs = model(images, sample=False)\n",
        "            loss = combined_loss(outputs, targets, model, epoch, epochs, use_bayesian)\n",
        "            loss.backward()\n",
        "            optimizer.step()\n",
        "\n",
        "            batch_sz = images.size(0)\n",
        "            running_loss += loss.item() * batch_sz\n",
        "            total_samples += batch_sz\n",
        "\n",
        "        # --------------------------\n",
        "        # Validation\n",
        "        # --------------------------\n",
        "        model.eval()\n",
        "        val_preds, val_labels = [], []\n",
        "        val_loss_sum = 0.0\n",
        "\n",
        "        with torch.no_grad():\n",
        "            for images, targets in val_loader:\n",
        "                images = images.to(DEVICE, non_blocking=True)\n",
        "                targets = targets.to(DEVICE, non_blocking=True).float().unsqueeze(1)\n",
        "\n",
        "                out = model(images, sample=False)\n",
        "                val_loss_sum += combined_loss(out, targets, model, epoch, epochs, use_bayesian).item() * images.size(0)\n",
        "\n",
        "                val_preds.extend(out.cpu().numpy().squeeze().tolist())\n",
        "                val_labels.extend(targets.cpu().numpy().squeeze().tolist())\n",
        "\n",
        "        val_loss = val_loss_sum / len(val_dataset)\n",
        "\n",
        "        # Discretize continuous predictions (threshold=1.5)\n",
        "        def discretize_binary(prediction, threshold=1.5):\n",
        "            return 0 if prediction < threshold else 1\n",
        "\n",
        "        bin_preds = [discretize_binary(p) for p in val_preds]\n",
        "        bin_true  = [0 if x < 2 else 1 for x in val_labels]\n",
        "\n",
        "        from sklearn.metrics import accuracy_score\n",
        "        val_acc = accuracy_score(bin_true, bin_preds)\n",
        "\n",
        "        # Compute combined metric:\n",
        "        # e.g., 0.5 * accuracy + 0.5 * (1/(1 + val_loss))\n",
        "        combined_score = 0.65 * val_acc + 0.35 * (1.0 / (1.0 + val_loss))\n",
        "\n",
        "        # Log to W&B\n",
        "        wandb.log({\n",
        "            \"epoch\": epoch + 1,\n",
        "            \"train_loss\": running_loss / total_samples,\n",
        "            \"val_loss\": val_loss,\n",
        "            \"val_acc\": val_acc,\n",
        "            \"combined_score\": combined_score\n",
        "        })\n",
        "\n",
        "        if combined_score > best_combined_score:\n",
        "            best_combined_score = combined_score\n",
        "\n",
        "        # For early stopping, check if we should prune\n",
        "        trial.report(combined_score, epoch)\n",
        "        if trial.should_prune():\n",
        "            wandb_run.finish()\n",
        "            raise optuna.TrialPruned()\n",
        "\n",
        "    # Done training\n",
        "    wandb_run.finish()\n",
        "    return best_combined_score\n",
        "\n",
        "def main():\n",
        "    # Create an Optuna study\n",
        "    import optuna\n",
        "    study = optuna.create_study(direction=\"maximize\")\n",
        "\n",
        "    # Optimize the objective\n",
        "    study.optimize(\n",
        "        objective,\n",
        "        n_trials=10,   # number of trials\n",
        "        timeout=None\n",
        "    )\n",
        "\n",
        "    # Print the best result\n",
        "    print(\"Best trial:\")\n",
        "    best_trial = study.best_trial\n",
        "    print(f\"  Value (combined_score): {best_trial.value}\")\n",
        "    print(\"  Params:\")\n",
        "    for k, v in best_trial.params.items():\n",
        "        print(f\"    {k}: {v}\")\n",
        "\n",
        "if __name__ == \"__main__\":\n",
        "    main()\n"
      ],
      "metadata": {
        "colab": {
          "base_uri": "https://localhost:8080/",
          "height": 1000
        },
        "id": "dIEVF_RHtr6I",
        "outputId": "f9005cd0-3afa-4f8f-8dbf-b625c3a665b3"
      },
      "execution_count": null,
      "outputs": [
        {
          "output_type": "stream",
          "name": "stderr",
          "text": [
            "[I 2025-03-19 08:07:38,883] A new study created in memory with name: no-name-9b5c7e7f-d8ab-40b7-a04e-d14ccaef5e2a\n",
            "<ipython-input-4-fb1c5ebf706b>:70: FutureWarning: suggest_loguniform has been deprecated in v3.0.0. This feature will be removed in v6.0.0. See https://github.com/optuna/optuna/releases/tag/v3.0.0. Use suggest_float(..., log=True) instead.\n",
            "  learning_rate = trial.suggest_loguniform(\"learning_rate\", 1e-4, 1e-2)\n",
            "\u001b[34m\u001b[1mwandb\u001b[0m: Using wandb-core as the SDK backend.  Please refer to https://wandb.me/wandb-core for more information.\n",
            "\u001b[34m\u001b[1mwandb\u001b[0m: Currently logged in as: \u001b[33mfngwenya\u001b[0m (\u001b[33mfngwenya-z\u001b[0m) to \u001b[32mhttps://api.wandb.ai\u001b[0m. Use \u001b[1m`wandb login --relogin`\u001b[0m to force relogin\n"
          ]
        },
        {
          "output_type": "display_data",
          "data": {
            "text/plain": [
              "<IPython.core.display.HTML object>"
            ],
            "text/html": [
              "Tracking run with wandb version 0.19.8"
            ]
          },
          "metadata": {}
        },
        {
          "output_type": "display_data",
          "data": {
            "text/plain": [
              "<IPython.core.display.HTML object>"
            ],
            "text/html": [
              "Run data is saved locally in <code>/content/drive/MyDrive/uc/wandb/run-20250319_080740-1t2aa9uo</code>"
            ]
          },
          "metadata": {}
        },
        {
          "output_type": "display_data",
          "data": {
            "text/plain": [
              "<IPython.core.display.HTML object>"
            ],
            "text/html": [
              "Syncing run <strong><a href='https://wandb.ai/fngwenya-z/my-ucmayo4-tuning-optuna/runs/1t2aa9uo' target=\"_blank\">bright-blaze-12</a></strong> to <a href='https://wandb.ai/fngwenya-z/my-ucmayo4-tuning-optuna' target=\"_blank\">Weights & Biases</a> (<a href='https://wandb.me/developer-guide' target=\"_blank\">docs</a>)<br>"
            ]
          },
          "metadata": {}
        },
        {
          "output_type": "display_data",
          "data": {
            "text/plain": [
              "<IPython.core.display.HTML object>"
            ],
            "text/html": [
              " View project at <a href='https://wandb.ai/fngwenya-z/my-ucmayo4-tuning-optuna' target=\"_blank\">https://wandb.ai/fngwenya-z/my-ucmayo4-tuning-optuna</a>"
            ]
          },
          "metadata": {}
        },
        {
          "output_type": "display_data",
          "data": {
            "text/plain": [
              "<IPython.core.display.HTML object>"
            ],
            "text/html": [
              " View run at <a href='https://wandb.ai/fngwenya-z/my-ucmayo4-tuning-optuna/runs/1t2aa9uo' target=\"_blank\">https://wandb.ai/fngwenya-z/my-ucmayo4-tuning-optuna/runs/1t2aa9uo</a>"
            ]
          },
          "metadata": {}
        },
        {
          "output_type": "stream",
          "name": "stderr",
          "text": [
            "/usr/local/lib/python3.11/dist-packages/torchvision/models/_utils.py:208: UserWarning: The parameter 'pretrained' is deprecated since 0.13 and may be removed in the future, please use 'weights' instead.\n",
            "  warnings.warn(\n",
            "/usr/local/lib/python3.11/dist-packages/torchvision/models/_utils.py:223: UserWarning: Arguments other than a weight enum or `None` for 'weights' are deprecated since 0.13 and may be removed in the future. The current behavior is equivalent to passing `weights=DenseNet121_Weights.IMAGENET1K_V1`. You can also use `weights=DenseNet121_Weights.DEFAULT` to get the most up-to-date weights.\n",
            "  warnings.warn(msg)\n"
          ]
        },
        {
          "output_type": "display_data",
          "data": {
            "text/plain": [
              "<IPython.core.display.HTML object>"
            ],
            "text/html": []
          },
          "metadata": {}
        },
        {
          "output_type": "display_data",
          "data": {
            "text/plain": [
              "<IPython.core.display.HTML object>"
            ],
            "text/html": [
              "<br>    <style><br>        .wandb-row {<br>            display: flex;<br>            flex-direction: row;<br>            flex-wrap: wrap;<br>            justify-content: flex-start;<br>            width: 100%;<br>        }<br>        .wandb-col {<br>            display: flex;<br>            flex-direction: column;<br>            flex-basis: 100%;<br>            flex: 1;<br>            padding: 10px;<br>        }<br>    </style><br><div class=\"wandb-row\"><div class=\"wandb-col\"><h3>Run history:</h3><br/><table class=\"wandb\"><tr><td>combined_score</td><td>▂▂▃▁▃▃▃▃▃▃▁▂▂▁▃▅▆█▇▆▇▆▇█▆</td></tr><tr><td>epoch</td><td>▁▁▂▂▂▂▃▃▃▄▄▄▅▅▅▅▆▆▆▇▇▇▇██</td></tr><tr><td>train_loss</td><td>▃▅▇███▇▆▅▄▃▂▁▁▁▁▁▁▁▁▁▁▁▁▁</td></tr><tr><td>val_acc</td><td>▅▅▆▃█▇██▇▇▃▄▅▁▅▄▁▇▄▁▄▁▄▆▂</td></tr><tr><td>val_loss</td><td>▄▆▇███▇▆▄▃▂▂▁▁▁▁▁▁▁▁▁▁▁▁▁</td></tr></table><br/></div><div class=\"wandb-col\"><h3>Run summary:</h3><br/><table class=\"wandb\"><tr><td>combined_score</td><td>0.73044</td></tr><tr><td>epoch</td><td>25</td></tr><tr><td>train_loss</td><td>0.79049</td></tr><tr><td>val_acc</td><td>0.81853</td></tr><tr><td>val_loss</td><td>0.76411</td></tr></table><br/></div></div>"
            ]
          },
          "metadata": {}
        },
        {
          "output_type": "display_data",
          "data": {
            "text/plain": [
              "<IPython.core.display.HTML object>"
            ],
            "text/html": [
              " View run <strong style=\"color:#cdcd00\">bright-blaze-12</strong> at: <a href='https://wandb.ai/fngwenya-z/my-ucmayo4-tuning-optuna/runs/1t2aa9uo' target=\"_blank\">https://wandb.ai/fngwenya-z/my-ucmayo4-tuning-optuna/runs/1t2aa9uo</a><br> View project at: <a href='https://wandb.ai/fngwenya-z/my-ucmayo4-tuning-optuna' target=\"_blank\">https://wandb.ai/fngwenya-z/my-ucmayo4-tuning-optuna</a><br>Synced 5 W&B file(s), 0 media file(s), 0 artifact file(s) and 0 other file(s)"
            ]
          },
          "metadata": {}
        },
        {
          "output_type": "display_data",
          "data": {
            "text/plain": [
              "<IPython.core.display.HTML object>"
            ],
            "text/html": [
              "Find logs at: <code>./wandb/run-20250319_080740-1t2aa9uo/logs</code>"
            ]
          },
          "metadata": {}
        },
        {
          "output_type": "stream",
          "name": "stderr",
          "text": [
            "[I 2025-03-19 08:38:57,694] Trial 0 finished with value: 0.7850370401633455 and parameters: {'model_type': 'Bayesian', 'dropout_rate': 0.3, 'learning_rate': 0.0007386832638599356, 'batch_size': 32}. Best is trial 0 with value: 0.7850370401633455.\n",
            "<ipython-input-4-fb1c5ebf706b>:70: FutureWarning: suggest_loguniform has been deprecated in v3.0.0. This feature will be removed in v6.0.0. See https://github.com/optuna/optuna/releases/tag/v3.0.0. Use suggest_float(..., log=True) instead.\n",
            "  learning_rate = trial.suggest_loguniform(\"learning_rate\", 1e-4, 1e-2)\n"
          ]
        },
        {
          "output_type": "display_data",
          "data": {
            "text/plain": [
              "<IPython.core.display.HTML object>"
            ],
            "text/html": [
              "Tracking run with wandb version 0.19.8"
            ]
          },
          "metadata": {}
        },
        {
          "output_type": "display_data",
          "data": {
            "text/plain": [
              "<IPython.core.display.HTML object>"
            ],
            "text/html": [
              "Run data is saved locally in <code>/content/drive/MyDrive/uc/wandb/run-20250319_083857-4w4x6me0</code>"
            ]
          },
          "metadata": {}
        },
        {
          "output_type": "display_data",
          "data": {
            "text/plain": [
              "<IPython.core.display.HTML object>"
            ],
            "text/html": [
              "Syncing run <strong><a href='https://wandb.ai/fngwenya-z/my-ucmayo4-tuning-optuna/runs/4w4x6me0' target=\"_blank\">summer-haze-13</a></strong> to <a href='https://wandb.ai/fngwenya-z/my-ucmayo4-tuning-optuna' target=\"_blank\">Weights & Biases</a> (<a href='https://wandb.me/developer-guide' target=\"_blank\">docs</a>)<br>"
            ]
          },
          "metadata": {}
        },
        {
          "output_type": "display_data",
          "data": {
            "text/plain": [
              "<IPython.core.display.HTML object>"
            ],
            "text/html": [
              " View project at <a href='https://wandb.ai/fngwenya-z/my-ucmayo4-tuning-optuna' target=\"_blank\">https://wandb.ai/fngwenya-z/my-ucmayo4-tuning-optuna</a>"
            ]
          },
          "metadata": {}
        },
        {
          "output_type": "display_data",
          "data": {
            "text/plain": [
              "<IPython.core.display.HTML object>"
            ],
            "text/html": [
              " View run at <a href='https://wandb.ai/fngwenya-z/my-ucmayo4-tuning-optuna/runs/4w4x6me0' target=\"_blank\">https://wandb.ai/fngwenya-z/my-ucmayo4-tuning-optuna/runs/4w4x6me0</a>"
            ]
          },
          "metadata": {}
        },
        {
          "output_type": "display_data",
          "data": {
            "text/plain": [
              "<IPython.core.display.HTML object>"
            ],
            "text/html": []
          },
          "metadata": {}
        },
        {
          "output_type": "display_data",
          "data": {
            "text/plain": [
              "<IPython.core.display.HTML object>"
            ],
            "text/html": [
              "<br>    <style><br>        .wandb-row {<br>            display: flex;<br>            flex-direction: row;<br>            flex-wrap: wrap;<br>            justify-content: flex-start;<br>            width: 100%;<br>        }<br>        .wandb-col {<br>            display: flex;<br>            flex-direction: column;<br>            flex-basis: 100%;<br>            flex: 1;<br>            padding: 10px;<br>        }<br>    </style><br><div class=\"wandb-row\"><div class=\"wandb-col\"><h3>Run history:</h3><br/><table class=\"wandb\"><tr><td>combined_score</td><td>▁▅▂▃▅▆▅▇█▅▆▇▆▄▄▆▇▆▄▇█▆▇█▆</td></tr><tr><td>epoch</td><td>▁▁▂▂▂▂▃▃▃▄▄▄▅▅▅▅▆▆▆▇▇▇▇██</td></tr><tr><td>train_loss</td><td>█▃▃▃▃▂▂▂▂▂▂▂▂▁▂▂▂▁▂▁▁▁▁▁▁</td></tr><tr><td>val_acc</td><td>▁▅▁▂▅▅▆▆█▆▅▇▅▆▄▆▇▄▄▆█▇▇█▆</td></tr><tr><td>val_loss</td><td>█▃▆▆▄▂▄▂▂▄▂▂▂▆▅▃▁▂▄▂▁▃▁▁▃</td></tr></table><br/></div><div class=\"wandb-col\"><h3>Run summary:</h3><br/><table class=\"wandb\"><tr><td>combined_score</td><td>0.88054</td></tr><tr><td>epoch</td><td>25</td></tr><tr><td>train_loss</td><td>0.17889</td></tr><tr><td>val_acc</td><td>0.92907</td></tr><tr><td>val_loss</td><td>0.26519</td></tr></table><br/></div></div>"
            ]
          },
          "metadata": {}
        },
        {
          "output_type": "display_data",
          "data": {
            "text/plain": [
              "<IPython.core.display.HTML object>"
            ],
            "text/html": [
              " View run <strong style=\"color:#cdcd00\">summer-haze-13</strong> at: <a href='https://wandb.ai/fngwenya-z/my-ucmayo4-tuning-optuna/runs/4w4x6me0' target=\"_blank\">https://wandb.ai/fngwenya-z/my-ucmayo4-tuning-optuna/runs/4w4x6me0</a><br> View project at: <a href='https://wandb.ai/fngwenya-z/my-ucmayo4-tuning-optuna' target=\"_blank\">https://wandb.ai/fngwenya-z/my-ucmayo4-tuning-optuna</a><br>Synced 5 W&B file(s), 0 media file(s), 0 artifact file(s) and 0 other file(s)"
            ]
          },
          "metadata": {}
        },
        {
          "output_type": "display_data",
          "data": {
            "text/plain": [
              "<IPython.core.display.HTML object>"
            ],
            "text/html": [
              "Find logs at: <code>./wandb/run-20250319_083857-4w4x6me0/logs</code>"
            ]
          },
          "metadata": {}
        },
        {
          "output_type": "stream",
          "name": "stderr",
          "text": [
            "[I 2025-03-19 09:12:51,777] Trial 1 finished with value: 0.9027397452707924 and parameters: {'model_type': 'Dropout', 'dropout_rate': 0.2, 'learning_rate': 0.0014608462163864502, 'batch_size': 64}. Best is trial 1 with value: 0.9027397452707924.\n",
            "<ipython-input-4-fb1c5ebf706b>:70: FutureWarning: suggest_loguniform has been deprecated in v3.0.0. This feature will be removed in v6.0.0. See https://github.com/optuna/optuna/releases/tag/v3.0.0. Use suggest_float(..., log=True) instead.\n",
            "  learning_rate = trial.suggest_loguniform(\"learning_rate\", 1e-4, 1e-2)\n"
          ]
        },
        {
          "output_type": "display_data",
          "data": {
            "text/plain": [
              "<IPython.core.display.HTML object>"
            ],
            "text/html": [
              "Tracking run with wandb version 0.19.8"
            ]
          },
          "metadata": {}
        },
        {
          "output_type": "display_data",
          "data": {
            "text/plain": [
              "<IPython.core.display.HTML object>"
            ],
            "text/html": [
              "Run data is saved locally in <code>/content/drive/MyDrive/uc/wandb/run-20250319_091251-sh327b6o</code>"
            ]
          },
          "metadata": {}
        },
        {
          "output_type": "display_data",
          "data": {
            "text/plain": [
              "<IPython.core.display.HTML object>"
            ],
            "text/html": [
              "Syncing run <strong><a href='https://wandb.ai/fngwenya-z/my-ucmayo4-tuning-optuna/runs/sh327b6o' target=\"_blank\">stellar-dragon-14</a></strong> to <a href='https://wandb.ai/fngwenya-z/my-ucmayo4-tuning-optuna' target=\"_blank\">Weights & Biases</a> (<a href='https://wandb.me/developer-guide' target=\"_blank\">docs</a>)<br>"
            ]
          },
          "metadata": {}
        },
        {
          "output_type": "display_data",
          "data": {
            "text/plain": [
              "<IPython.core.display.HTML object>"
            ],
            "text/html": [
              " View project at <a href='https://wandb.ai/fngwenya-z/my-ucmayo4-tuning-optuna' target=\"_blank\">https://wandb.ai/fngwenya-z/my-ucmayo4-tuning-optuna</a>"
            ]
          },
          "metadata": {}
        },
        {
          "output_type": "display_data",
          "data": {
            "text/plain": [
              "<IPython.core.display.HTML object>"
            ],
            "text/html": [
              " View run at <a href='https://wandb.ai/fngwenya-z/my-ucmayo4-tuning-optuna/runs/sh327b6o' target=\"_blank\">https://wandb.ai/fngwenya-z/my-ucmayo4-tuning-optuna/runs/sh327b6o</a>"
            ]
          },
          "metadata": {}
        },
        {
          "output_type": "display_data",
          "data": {
            "text/plain": [
              "<IPython.core.display.HTML object>"
            ],
            "text/html": []
          },
          "metadata": {}
        },
        {
          "output_type": "display_data",
          "data": {
            "text/plain": [
              "<IPython.core.display.HTML object>"
            ],
            "text/html": [
              "<br>    <style><br>        .wandb-row {<br>            display: flex;<br>            flex-direction: row;<br>            flex-wrap: wrap;<br>            justify-content: flex-start;<br>            width: 100%;<br>        }<br>        .wandb-col {<br>            display: flex;<br>            flex-direction: column;<br>            flex-basis: 100%;<br>            flex: 1;<br>            padding: 10px;<br>        }<br>    </style><br><div class=\"wandb-row\"><div class=\"wandb-col\"><h3>Run history:</h3><br/><table class=\"wandb\"><tr><td>combined_score</td><td>▃▅▃▃▄▆▅▃▇▁▇▄▇▆█▆▇▃▅▄▆▇▄▇▆</td></tr><tr><td>epoch</td><td>▁▁▂▂▂▂▃▃▃▄▄▄▅▅▅▅▆▆▆▇▇▇▇██</td></tr><tr><td>train_loss</td><td>█▅▅▄▄▃▃▃▃▃▃▃▂▂▂▂▂▂▂▂▂▁▁▁▁</td></tr><tr><td>val_acc</td><td>▄▅▄▄▅▇▅▂█▁▇▄▇▅█▅▇▄▇▅▆▇▅▆▇</td></tr><tr><td>val_loss</td><td>█▅█▇▇▃▃▄▃▇▂▅▂▂▁▂▂▇▅▇▂▂▅▁▃</td></tr></table><br/></div><div class=\"wandb-col\"><h3>Run summary:</h3><br/><table class=\"wandb\"><tr><td>combined_score</td><td>0.89602</td></tr><tr><td>epoch</td><td>25</td></tr><tr><td>train_loss</td><td>0.10606</td></tr><tr><td>val_acc</td><td>0.93802</td></tr><tr><td>val_loss</td><td>0.22248</td></tr></table><br/></div></div>"
            ]
          },
          "metadata": {}
        },
        {
          "output_type": "display_data",
          "data": {
            "text/plain": [
              "<IPython.core.display.HTML object>"
            ],
            "text/html": [
              " View run <strong style=\"color:#cdcd00\">stellar-dragon-14</strong> at: <a href='https://wandb.ai/fngwenya-z/my-ucmayo4-tuning-optuna/runs/sh327b6o' target=\"_blank\">https://wandb.ai/fngwenya-z/my-ucmayo4-tuning-optuna/runs/sh327b6o</a><br> View project at: <a href='https://wandb.ai/fngwenya-z/my-ucmayo4-tuning-optuna' target=\"_blank\">https://wandb.ai/fngwenya-z/my-ucmayo4-tuning-optuna</a><br>Synced 5 W&B file(s), 0 media file(s), 0 artifact file(s) and 0 other file(s)"
            ]
          },
          "metadata": {}
        },
        {
          "output_type": "display_data",
          "data": {
            "text/plain": [
              "<IPython.core.display.HTML object>"
            ],
            "text/html": [
              "Find logs at: <code>./wandb/run-20250319_091251-sh327b6o/logs</code>"
            ]
          },
          "metadata": {}
        },
        {
          "output_type": "stream",
          "name": "stderr",
          "text": [
            "[I 2025-03-19 09:44:05,879] Trial 2 finished with value: 0.9070930246549063 and parameters: {'model_type': 'Dropout', 'dropout_rate': 0.2, 'learning_rate': 0.00039247966591329894, 'batch_size': 32}. Best is trial 2 with value: 0.9070930246549063.\n",
            "<ipython-input-4-fb1c5ebf706b>:70: FutureWarning: suggest_loguniform has been deprecated in v3.0.0. This feature will be removed in v6.0.0. See https://github.com/optuna/optuna/releases/tag/v3.0.0. Use suggest_float(..., log=True) instead.\n",
            "  learning_rate = trial.suggest_loguniform(\"learning_rate\", 1e-4, 1e-2)\n"
          ]
        },
        {
          "output_type": "display_data",
          "data": {
            "text/plain": [
              "<IPython.core.display.HTML object>"
            ],
            "text/html": [
              "Tracking run with wandb version 0.19.8"
            ]
          },
          "metadata": {}
        },
        {
          "output_type": "display_data",
          "data": {
            "text/plain": [
              "<IPython.core.display.HTML object>"
            ],
            "text/html": [
              "Run data is saved locally in <code>/content/drive/MyDrive/uc/wandb/run-20250319_094405-98qidkid</code>"
            ]
          },
          "metadata": {}
        },
        {
          "output_type": "display_data",
          "data": {
            "text/plain": [
              "<IPython.core.display.HTML object>"
            ],
            "text/html": [
              "Syncing run <strong><a href='https://wandb.ai/fngwenya-z/my-ucmayo4-tuning-optuna/runs/98qidkid' target=\"_blank\">curious-wildflower-15</a></strong> to <a href='https://wandb.ai/fngwenya-z/my-ucmayo4-tuning-optuna' target=\"_blank\">Weights & Biases</a> (<a href='https://wandb.me/developer-guide' target=\"_blank\">docs</a>)<br>"
            ]
          },
          "metadata": {}
        },
        {
          "output_type": "display_data",
          "data": {
            "text/plain": [
              "<IPython.core.display.HTML object>"
            ],
            "text/html": [
              " View project at <a href='https://wandb.ai/fngwenya-z/my-ucmayo4-tuning-optuna' target=\"_blank\">https://wandb.ai/fngwenya-z/my-ucmayo4-tuning-optuna</a>"
            ]
          },
          "metadata": {}
        },
        {
          "output_type": "display_data",
          "data": {
            "text/plain": [
              "<IPython.core.display.HTML object>"
            ],
            "text/html": [
              " View run at <a href='https://wandb.ai/fngwenya-z/my-ucmayo4-tuning-optuna/runs/98qidkid' target=\"_blank\">https://wandb.ai/fngwenya-z/my-ucmayo4-tuning-optuna/runs/98qidkid</a>"
            ]
          },
          "metadata": {}
        },
        {
          "output_type": "stream",
          "name": "stderr",
          "text": [
            "/usr/local/lib/python3.11/dist-packages/torchvision/models/_utils.py:208: UserWarning: The parameter 'pretrained' is deprecated since 0.13 and may be removed in the future, please use 'weights' instead.\n",
            "  warnings.warn(\n",
            "/usr/local/lib/python3.11/dist-packages/torchvision/models/_utils.py:223: UserWarning: Arguments other than a weight enum or `None` for 'weights' are deprecated since 0.13 and may be removed in the future. The current behavior is equivalent to passing `weights=DenseNet121_Weights.IMAGENET1K_V1`. You can also use `weights=DenseNet121_Weights.DEFAULT` to get the most up-to-date weights.\n",
            "  warnings.warn(msg)\n"
          ]
        },
        {
          "output_type": "display_data",
          "data": {
            "text/plain": [
              "<IPython.core.display.HTML object>"
            ],
            "text/html": []
          },
          "metadata": {}
        },
        {
          "output_type": "display_data",
          "data": {
            "text/plain": [
              "<IPython.core.display.HTML object>"
            ],
            "text/html": [
              "<br>    <style><br>        .wandb-row {<br>            display: flex;<br>            flex-direction: row;<br>            flex-wrap: wrap;<br>            justify-content: flex-start;<br>            width: 100%;<br>        }<br>        .wandb-col {<br>            display: flex;<br>            flex-direction: column;<br>            flex-basis: 100%;<br>            flex: 1;<br>            padding: 10px;<br>        }<br>    </style><br><div class=\"wandb-row\"><div class=\"wandb-col\"><h3>Run history:</h3><br/><table class=\"wandb\"><tr><td>combined_score</td><td>▃▃▃▃▃▁▃▃▃▂▃▁▂▂▄▇█▆▇▇▇██▇▆</td></tr><tr><td>epoch</td><td>▁▁▂▂▂▂▃▃▃▄▄▄▅▅▅▅▆▆▆▇▇▇▇██</td></tr><tr><td>train_loss</td><td>▄▆▇███▇▆▅▄▃▂▁▁▁▁▁▁▁▁▁▁▁▁▁</td></tr><tr><td>val_acc</td><td>▇██▇█▃█▇▇▆█▃▅▆▄▁▃▁▃▂▁▄▅▂▁</td></tr><tr><td>val_loss</td><td>▄▆▇███▇▆▄▃▂▁▁▁▁▁▁▁▁▁▁▁▁▁▁</td></tr></table><br/></div><div class=\"wandb-col\"><h3>Run summary:</h3><br/><table class=\"wandb\"><tr><td>combined_score</td><td>0.71534</td></tr><tr><td>epoch</td><td>25</td></tr><tr><td>train_loss</td><td>0.7899</td></tr><tr><td>val_acc</td><td>0.80767</td></tr><tr><td>val_loss</td><td>0.83865</td></tr></table><br/></div></div>"
            ]
          },
          "metadata": {}
        },
        {
          "output_type": "display_data",
          "data": {
            "text/plain": [
              "<IPython.core.display.HTML object>"
            ],
            "text/html": [
              " View run <strong style=\"color:#cdcd00\">curious-wildflower-15</strong> at: <a href='https://wandb.ai/fngwenya-z/my-ucmayo4-tuning-optuna/runs/98qidkid' target=\"_blank\">https://wandb.ai/fngwenya-z/my-ucmayo4-tuning-optuna/runs/98qidkid</a><br> View project at: <a href='https://wandb.ai/fngwenya-z/my-ucmayo4-tuning-optuna' target=\"_blank\">https://wandb.ai/fngwenya-z/my-ucmayo4-tuning-optuna</a><br>Synced 5 W&B file(s), 0 media file(s), 0 artifact file(s) and 0 other file(s)"
            ]
          },
          "metadata": {}
        },
        {
          "output_type": "display_data",
          "data": {
            "text/plain": [
              "<IPython.core.display.HTML object>"
            ],
            "text/html": [
              "Find logs at: <code>./wandb/run-20250319_094405-98qidkid/logs</code>"
            ]
          },
          "metadata": {}
        },
        {
          "output_type": "stream",
          "name": "stderr",
          "text": [
            "[I 2025-03-19 10:14:56,716] Trial 3 finished with value: 0.7689595683058176 and parameters: {'model_type': 'Bayesian', 'dropout_rate': 0.3, 'learning_rate': 0.0003971084237816957, 'batch_size': 16}. Best is trial 2 with value: 0.9070930246549063.\n",
            "<ipython-input-4-fb1c5ebf706b>:70: FutureWarning: suggest_loguniform has been deprecated in v3.0.0. This feature will be removed in v6.0.0. See https://github.com/optuna/optuna/releases/tag/v3.0.0. Use suggest_float(..., log=True) instead.\n",
            "  learning_rate = trial.suggest_loguniform(\"learning_rate\", 1e-4, 1e-2)\n"
          ]
        },
        {
          "output_type": "display_data",
          "data": {
            "text/plain": [
              "<IPython.core.display.HTML object>"
            ],
            "text/html": [
              "Tracking run with wandb version 0.19.8"
            ]
          },
          "metadata": {}
        },
        {
          "output_type": "display_data",
          "data": {
            "text/plain": [
              "<IPython.core.display.HTML object>"
            ],
            "text/html": [
              "Run data is saved locally in <code>/content/drive/MyDrive/uc/wandb/run-20250319_101456-qwmaikhq</code>"
            ]
          },
          "metadata": {}
        },
        {
          "output_type": "display_data",
          "data": {
            "text/plain": [
              "<IPython.core.display.HTML object>"
            ],
            "text/html": [
              "Syncing run <strong><a href='https://wandb.ai/fngwenya-z/my-ucmayo4-tuning-optuna/runs/qwmaikhq' target=\"_blank\">classic-silence-16</a></strong> to <a href='https://wandb.ai/fngwenya-z/my-ucmayo4-tuning-optuna' target=\"_blank\">Weights & Biases</a> (<a href='https://wandb.me/developer-guide' target=\"_blank\">docs</a>)<br>"
            ]
          },
          "metadata": {}
        },
        {
          "output_type": "display_data",
          "data": {
            "text/plain": [
              "<IPython.core.display.HTML object>"
            ],
            "text/html": [
              " View project at <a href='https://wandb.ai/fngwenya-z/my-ucmayo4-tuning-optuna' target=\"_blank\">https://wandb.ai/fngwenya-z/my-ucmayo4-tuning-optuna</a>"
            ]
          },
          "metadata": {}
        },
        {
          "output_type": "display_data",
          "data": {
            "text/plain": [
              "<IPython.core.display.HTML object>"
            ],
            "text/html": [
              " View run at <a href='https://wandb.ai/fngwenya-z/my-ucmayo4-tuning-optuna/runs/qwmaikhq' target=\"_blank\">https://wandb.ai/fngwenya-z/my-ucmayo4-tuning-optuna/runs/qwmaikhq</a>"
            ]
          },
          "metadata": {}
        },
        {
          "output_type": "display_data",
          "data": {
            "text/plain": [
              "<IPython.core.display.HTML object>"
            ],
            "text/html": []
          },
          "metadata": {}
        },
        {
          "output_type": "display_data",
          "data": {
            "text/plain": [
              "<IPython.core.display.HTML object>"
            ],
            "text/html": [
              "<br>    <style><br>        .wandb-row {<br>            display: flex;<br>            flex-direction: row;<br>            flex-wrap: wrap;<br>            justify-content: flex-start;<br>            width: 100%;<br>        }<br>        .wandb-col {<br>            display: flex;<br>            flex-direction: column;<br>            flex-basis: 100%;<br>            flex: 1;<br>            padding: 10px;<br>        }<br>    </style><br><div class=\"wandb-row\"><div class=\"wandb-col\"><h3>Run history:</h3><br/><table class=\"wandb\"><tr><td>combined_score</td><td>▅▃▁▅▇▆██▆█▅▂▇▇█▇█▆▆▆▆▂▂▆▇</td></tr><tr><td>epoch</td><td>▁▁▂▂▂▂▃▃▃▄▄▄▅▅▅▅▆▆▆▇▇▇▇██</td></tr><tr><td>train_loss</td><td>█▅▄▄▄▃▃▃▃▃▃▃▂▂▂▂▂▂▂▂▂▂▁▁▁</td></tr><tr><td>val_acc</td><td>▆▅▁▆▆▇██▅▇▄▂▇▇▇▆█▆█▆▆▄▁▆▇</td></tr><tr><td>val_loss</td><td>▅▇▆▄▂▃▂▃▃▁▃▆▂▂▂▂▂▃▅▃▃█▄▄▃</td></tr></table><br/></div><div class=\"wandb-col\"><h3>Run summary:</h3><br/><table class=\"wandb\"><tr><td>combined_score</td><td>0.89581</td></tr><tr><td>epoch</td><td>25</td></tr><tr><td>train_loss</td><td>0.08683</td></tr><tr><td>val_acc</td><td>0.93866</td></tr><tr><td>val_loss</td><td>0.22513</td></tr></table><br/></div></div>"
            ]
          },
          "metadata": {}
        },
        {
          "output_type": "display_data",
          "data": {
            "text/plain": [
              "<IPython.core.display.HTML object>"
            ],
            "text/html": [
              " View run <strong style=\"color:#cdcd00\">classic-silence-16</strong> at: <a href='https://wandb.ai/fngwenya-z/my-ucmayo4-tuning-optuna/runs/qwmaikhq' target=\"_blank\">https://wandb.ai/fngwenya-z/my-ucmayo4-tuning-optuna/runs/qwmaikhq</a><br> View project at: <a href='https://wandb.ai/fngwenya-z/my-ucmayo4-tuning-optuna' target=\"_blank\">https://wandb.ai/fngwenya-z/my-ucmayo4-tuning-optuna</a><br>Synced 5 W&B file(s), 0 media file(s), 0 artifact file(s) and 0 other file(s)"
            ]
          },
          "metadata": {}
        },
        {
          "output_type": "display_data",
          "data": {
            "text/plain": [
              "<IPython.core.display.HTML object>"
            ],
            "text/html": [
              "Find logs at: <code>./wandb/run-20250319_101456-qwmaikhq/logs</code>"
            ]
          },
          "metadata": {}
        },
        {
          "output_type": "stream",
          "name": "stderr",
          "text": [
            "[I 2025-03-19 10:46:05,993] Trial 4 finished with value: 0.9003017557481983 and parameters: {'model_type': 'Dropout', 'dropout_rate': 0.3, 'learning_rate': 0.000290528097140661, 'batch_size': 32}. Best is trial 2 with value: 0.9070930246549063.\n",
            "<ipython-input-4-fb1c5ebf706b>:70: FutureWarning: suggest_loguniform has been deprecated in v3.0.0. This feature will be removed in v6.0.0. See https://github.com/optuna/optuna/releases/tag/v3.0.0. Use suggest_float(..., log=True) instead.\n",
            "  learning_rate = trial.suggest_loguniform(\"learning_rate\", 1e-4, 1e-2)\n"
          ]
        },
        {
          "output_type": "display_data",
          "data": {
            "text/plain": [
              "<IPython.core.display.HTML object>"
            ],
            "text/html": [
              "Tracking run with wandb version 0.19.8"
            ]
          },
          "metadata": {}
        },
        {
          "output_type": "display_data",
          "data": {
            "text/plain": [
              "<IPython.core.display.HTML object>"
            ],
            "text/html": [
              "Run data is saved locally in <code>/content/drive/MyDrive/uc/wandb/run-20250319_104606-xn9j1tqh</code>"
            ]
          },
          "metadata": {}
        },
        {
          "output_type": "display_data",
          "data": {
            "text/plain": [
              "<IPython.core.display.HTML object>"
            ],
            "text/html": [
              "Syncing run <strong><a href='https://wandb.ai/fngwenya-z/my-ucmayo4-tuning-optuna/runs/xn9j1tqh' target=\"_blank\">devout-hill-17</a></strong> to <a href='https://wandb.ai/fngwenya-z/my-ucmayo4-tuning-optuna' target=\"_blank\">Weights & Biases</a> (<a href='https://wandb.me/developer-guide' target=\"_blank\">docs</a>)<br>"
            ]
          },
          "metadata": {}
        },
        {
          "output_type": "display_data",
          "data": {
            "text/plain": [
              "<IPython.core.display.HTML object>"
            ],
            "text/html": [
              " View project at <a href='https://wandb.ai/fngwenya-z/my-ucmayo4-tuning-optuna' target=\"_blank\">https://wandb.ai/fngwenya-z/my-ucmayo4-tuning-optuna</a>"
            ]
          },
          "metadata": {}
        },
        {
          "output_type": "display_data",
          "data": {
            "text/plain": [
              "<IPython.core.display.HTML object>"
            ],
            "text/html": [
              " View run at <a href='https://wandb.ai/fngwenya-z/my-ucmayo4-tuning-optuna/runs/xn9j1tqh' target=\"_blank\">https://wandb.ai/fngwenya-z/my-ucmayo4-tuning-optuna/runs/xn9j1tqh</a>"
            ]
          },
          "metadata": {}
        },
        {
          "output_type": "display_data",
          "data": {
            "text/plain": [
              "<IPython.core.display.HTML object>"
            ],
            "text/html": []
          },
          "metadata": {}
        },
        {
          "output_type": "display_data",
          "data": {
            "text/plain": [
              "<IPython.core.display.HTML object>"
            ],
            "text/html": [
              "<br>    <style><br>        .wandb-row {<br>            display: flex;<br>            flex-direction: row;<br>            flex-wrap: wrap;<br>            justify-content: flex-start;<br>            width: 100%;<br>        }<br>        .wandb-col {<br>            display: flex;<br>            flex-direction: column;<br>            flex-basis: 100%;<br>            flex: 1;<br>            padding: 10px;<br>        }<br>    </style><br><div class=\"wandb-row\"><div class=\"wandb-col\"><h3>Run history:</h3><br/><table class=\"wandb\"><tr><td>combined_score</td><td>▁▃█▃█▅▇▇▇▆▆▃▆▇▅▆▇█▇▂█▆▅▄▄</td></tr><tr><td>epoch</td><td>▁▁▂▂▂▂▃▃▃▄▄▄▅▅▅▅▆▆▆▇▇▇▇██</td></tr><tr><td>train_loss</td><td>█▅▄▄▄▃▃▃▃▂▂▂▂▂▂▂▂▁▁▁▁▁▁▁▁</td></tr><tr><td>val_acc</td><td>▁▄▇▄▇▅▆▇▇▆▆▆▆▇▆▆▇█▆▄▇▆▆▅▅</td></tr><tr><td>val_loss</td><td>▆▇▁▇▁▃▂▁▃▄▃█▂▂▅▃▂▂▃█▂▄▅▅▆</td></tr></table><br/></div><div class=\"wandb-col\"><h3>Run summary:</h3><br/><table class=\"wandb\"><tr><td>combined_score</td><td>0.88364</td></tr><tr><td>epoch</td><td>25</td></tr><tr><td>train_loss</td><td>0.05132</td></tr><tr><td>val_acc</td><td>0.93035</td></tr><tr><td>val_loss</td><td>0.25486</td></tr></table><br/></div></div>"
            ]
          },
          "metadata": {}
        },
        {
          "output_type": "display_data",
          "data": {
            "text/plain": [
              "<IPython.core.display.HTML object>"
            ],
            "text/html": [
              " View run <strong style=\"color:#cdcd00\">devout-hill-17</strong> at: <a href='https://wandb.ai/fngwenya-z/my-ucmayo4-tuning-optuna/runs/xn9j1tqh' target=\"_blank\">https://wandb.ai/fngwenya-z/my-ucmayo4-tuning-optuna/runs/xn9j1tqh</a><br> View project at: <a href='https://wandb.ai/fngwenya-z/my-ucmayo4-tuning-optuna' target=\"_blank\">https://wandb.ai/fngwenya-z/my-ucmayo4-tuning-optuna</a><br>Synced 5 W&B file(s), 0 media file(s), 0 artifact file(s) and 0 other file(s)"
            ]
          },
          "metadata": {}
        },
        {
          "output_type": "display_data",
          "data": {
            "text/plain": [
              "<IPython.core.display.HTML object>"
            ],
            "text/html": [
              "Find logs at: <code>./wandb/run-20250319_104606-xn9j1tqh/logs</code>"
            ]
          },
          "metadata": {}
        },
        {
          "output_type": "stream",
          "name": "stderr",
          "text": [
            "[I 2025-03-19 11:20:06,047] Trial 5 finished with value: 0.9046174757485036 and parameters: {'model_type': 'Dropout', 'dropout_rate': 0.3, 'learning_rate': 0.0001974611792950046, 'batch_size': 64}. Best is trial 2 with value: 0.9070930246549063.\n",
            "<ipython-input-4-fb1c5ebf706b>:70: FutureWarning: suggest_loguniform has been deprecated in v3.0.0. This feature will be removed in v6.0.0. See https://github.com/optuna/optuna/releases/tag/v3.0.0. Use suggest_float(..., log=True) instead.\n",
            "  learning_rate = trial.suggest_loguniform(\"learning_rate\", 1e-4, 1e-2)\n"
          ]
        },
        {
          "output_type": "display_data",
          "data": {
            "text/plain": [
              "<IPython.core.display.HTML object>"
            ],
            "text/html": [
              "Tracking run with wandb version 0.19.8"
            ]
          },
          "metadata": {}
        },
        {
          "output_type": "display_data",
          "data": {
            "text/plain": [
              "<IPython.core.display.HTML object>"
            ],
            "text/html": [
              "Run data is saved locally in <code>/content/drive/MyDrive/uc/wandb/run-20250319_112006-f96mns64</code>"
            ]
          },
          "metadata": {}
        },
        {
          "output_type": "display_data",
          "data": {
            "text/plain": [
              "<IPython.core.display.HTML object>"
            ],
            "text/html": [
              "Syncing run <strong><a href='https://wandb.ai/fngwenya-z/my-ucmayo4-tuning-optuna/runs/f96mns64' target=\"_blank\">fresh-disco-18</a></strong> to <a href='https://wandb.ai/fngwenya-z/my-ucmayo4-tuning-optuna' target=\"_blank\">Weights & Biases</a> (<a href='https://wandb.me/developer-guide' target=\"_blank\">docs</a>)<br>"
            ]
          },
          "metadata": {}
        },
        {
          "output_type": "display_data",
          "data": {
            "text/plain": [
              "<IPython.core.display.HTML object>"
            ],
            "text/html": [
              " View project at <a href='https://wandb.ai/fngwenya-z/my-ucmayo4-tuning-optuna' target=\"_blank\">https://wandb.ai/fngwenya-z/my-ucmayo4-tuning-optuna</a>"
            ]
          },
          "metadata": {}
        },
        {
          "output_type": "display_data",
          "data": {
            "text/plain": [
              "<IPython.core.display.HTML object>"
            ],
            "text/html": [
              " View run at <a href='https://wandb.ai/fngwenya-z/my-ucmayo4-tuning-optuna/runs/f96mns64' target=\"_blank\">https://wandb.ai/fngwenya-z/my-ucmayo4-tuning-optuna/runs/f96mns64</a>"
            ]
          },
          "metadata": {}
        },
        {
          "output_type": "display_data",
          "data": {
            "text/plain": [
              "<IPython.core.display.HTML object>"
            ],
            "text/html": []
          },
          "metadata": {}
        },
        {
          "output_type": "display_data",
          "data": {
            "text/plain": [
              "<IPython.core.display.HTML object>"
            ],
            "text/html": [
              "<br>    <style><br>        .wandb-row {<br>            display: flex;<br>            flex-direction: row;<br>            flex-wrap: wrap;<br>            justify-content: flex-start;<br>            width: 100%;<br>        }<br>        .wandb-col {<br>            display: flex;<br>            flex-direction: column;<br>            flex-basis: 100%;<br>            flex: 1;<br>            padding: 10px;<br>        }<br>    </style><br><div class=\"wandb-row\"><div class=\"wandb-col\"><h3>Run history:</h3><br/><table class=\"wandb\"><tr><td>combined_score</td><td>▁</td></tr><tr><td>epoch</td><td>▁</td></tr><tr><td>train_loss</td><td>▁</td></tr><tr><td>val_acc</td><td>▁</td></tr><tr><td>val_loss</td><td>▁</td></tr></table><br/></div><div class=\"wandb-col\"><h3>Run summary:</h3><br/><table class=\"wandb\"><tr><td>combined_score</td><td>0.79695</td></tr><tr><td>epoch</td><td>1</td></tr><tr><td>train_loss</td><td>0.64195</td></tr><tr><td>val_acc</td><td>0.86645</td></tr><tr><td>val_loss</td><td>0.49731</td></tr></table><br/></div></div>"
            ]
          },
          "metadata": {}
        },
        {
          "output_type": "display_data",
          "data": {
            "text/plain": [
              "<IPython.core.display.HTML object>"
            ],
            "text/html": [
              " View run <strong style=\"color:#cdcd00\">fresh-disco-18</strong> at: <a href='https://wandb.ai/fngwenya-z/my-ucmayo4-tuning-optuna/runs/f96mns64' target=\"_blank\">https://wandb.ai/fngwenya-z/my-ucmayo4-tuning-optuna/runs/f96mns64</a><br> View project at: <a href='https://wandb.ai/fngwenya-z/my-ucmayo4-tuning-optuna' target=\"_blank\">https://wandb.ai/fngwenya-z/my-ucmayo4-tuning-optuna</a><br>Synced 5 W&B file(s), 0 media file(s), 0 artifact file(s) and 0 other file(s)"
            ]
          },
          "metadata": {}
        },
        {
          "output_type": "display_data",
          "data": {
            "text/plain": [
              "<IPython.core.display.HTML object>"
            ],
            "text/html": [
              "Find logs at: <code>./wandb/run-20250319_112006-f96mns64/logs</code>"
            ]
          },
          "metadata": {}
        },
        {
          "output_type": "stream",
          "name": "stderr",
          "text": [
            "[I 2025-03-19 11:22:37,429] Trial 6 pruned. \n",
            "<ipython-input-4-fb1c5ebf706b>:70: FutureWarning: suggest_loguniform has been deprecated in v3.0.0. This feature will be removed in v6.0.0. See https://github.com/optuna/optuna/releases/tag/v3.0.0. Use suggest_float(..., log=True) instead.\n",
            "  learning_rate = trial.suggest_loguniform(\"learning_rate\", 1e-4, 1e-2)\n"
          ]
        },
        {
          "output_type": "display_data",
          "data": {
            "text/plain": [
              "<IPython.core.display.HTML object>"
            ],
            "text/html": [
              "Tracking run with wandb version 0.19.8"
            ]
          },
          "metadata": {}
        },
        {
          "output_type": "display_data",
          "data": {
            "text/plain": [
              "<IPython.core.display.HTML object>"
            ],
            "text/html": [
              "Run data is saved locally in <code>/content/drive/MyDrive/uc/wandb/run-20250319_112237-ohgxhzg6</code>"
            ]
          },
          "metadata": {}
        },
        {
          "output_type": "display_data",
          "data": {
            "text/plain": [
              "<IPython.core.display.HTML object>"
            ],
            "text/html": [
              "Syncing run <strong><a href='https://wandb.ai/fngwenya-z/my-ucmayo4-tuning-optuna/runs/ohgxhzg6' target=\"_blank\">astral-feather-19</a></strong> to <a href='https://wandb.ai/fngwenya-z/my-ucmayo4-tuning-optuna' target=\"_blank\">Weights & Biases</a> (<a href='https://wandb.me/developer-guide' target=\"_blank\">docs</a>)<br>"
            ]
          },
          "metadata": {}
        },
        {
          "output_type": "display_data",
          "data": {
            "text/plain": [
              "<IPython.core.display.HTML object>"
            ],
            "text/html": [
              " View project at <a href='https://wandb.ai/fngwenya-z/my-ucmayo4-tuning-optuna' target=\"_blank\">https://wandb.ai/fngwenya-z/my-ucmayo4-tuning-optuna</a>"
            ]
          },
          "metadata": {}
        },
        {
          "output_type": "display_data",
          "data": {
            "text/plain": [
              "<IPython.core.display.HTML object>"
            ],
            "text/html": [
              " View run at <a href='https://wandb.ai/fngwenya-z/my-ucmayo4-tuning-optuna/runs/ohgxhzg6' target=\"_blank\">https://wandb.ai/fngwenya-z/my-ucmayo4-tuning-optuna/runs/ohgxhzg6</a>"
            ]
          },
          "metadata": {}
        },
        {
          "output_type": "display_data",
          "data": {
            "text/plain": [
              "<IPython.core.display.HTML object>"
            ],
            "text/html": []
          },
          "metadata": {}
        },
        {
          "output_type": "display_data",
          "data": {
            "text/plain": [
              "<IPython.core.display.HTML object>"
            ],
            "text/html": [
              "<br>    <style><br>        .wandb-row {<br>            display: flex;<br>            flex-direction: row;<br>            flex-wrap: wrap;<br>            justify-content: flex-start;<br>            width: 100%;<br>        }<br>        .wandb-col {<br>            display: flex;<br>            flex-direction: column;<br>            flex-basis: 100%;<br>            flex: 1;<br>            padding: 10px;<br>        }<br>    </style><br><div class=\"wandb-row\"><div class=\"wandb-col\"><h3>Run history:</h3><br/><table class=\"wandb\"><tr><td>combined_score</td><td>▁</td></tr><tr><td>epoch</td><td>▁</td></tr><tr><td>train_loss</td><td>▁</td></tr><tr><td>val_acc</td><td>▁</td></tr><tr><td>val_loss</td><td>▁</td></tr></table><br/></div><div class=\"wandb-col\"><h3>Run summary:</h3><br/><table class=\"wandb\"><tr><td>combined_score</td><td>0.70248</td></tr><tr><td>epoch</td><td>1</td></tr><tr><td>train_loss</td><td>0.95251</td></tr><tr><td>val_acc</td><td>0.80703</td></tr><tr><td>val_loss</td><td>0.96724</td></tr></table><br/></div></div>"
            ]
          },
          "metadata": {}
        },
        {
          "output_type": "display_data",
          "data": {
            "text/plain": [
              "<IPython.core.display.HTML object>"
            ],
            "text/html": [
              " View run <strong style=\"color:#cdcd00\">astral-feather-19</strong> at: <a href='https://wandb.ai/fngwenya-z/my-ucmayo4-tuning-optuna/runs/ohgxhzg6' target=\"_blank\">https://wandb.ai/fngwenya-z/my-ucmayo4-tuning-optuna/runs/ohgxhzg6</a><br> View project at: <a href='https://wandb.ai/fngwenya-z/my-ucmayo4-tuning-optuna' target=\"_blank\">https://wandb.ai/fngwenya-z/my-ucmayo4-tuning-optuna</a><br>Synced 5 W&B file(s), 0 media file(s), 0 artifact file(s) and 0 other file(s)"
            ]
          },
          "metadata": {}
        },
        {
          "output_type": "display_data",
          "data": {
            "text/plain": [
              "<IPython.core.display.HTML object>"
            ],
            "text/html": [
              "Find logs at: <code>./wandb/run-20250319_112237-ohgxhzg6/logs</code>"
            ]
          },
          "metadata": {}
        },
        {
          "output_type": "stream",
          "name": "stderr",
          "text": [
            "[I 2025-03-19 11:25:09,392] Trial 7 pruned. \n",
            "<ipython-input-4-fb1c5ebf706b>:70: FutureWarning: suggest_loguniform has been deprecated in v3.0.0. This feature will be removed in v6.0.0. See https://github.com/optuna/optuna/releases/tag/v3.0.0. Use suggest_float(..., log=True) instead.\n",
            "  learning_rate = trial.suggest_loguniform(\"learning_rate\", 1e-4, 1e-2)\n"
          ]
        },
        {
          "output_type": "display_data",
          "data": {
            "text/plain": [
              "<IPython.core.display.HTML object>"
            ],
            "text/html": [
              "Tracking run with wandb version 0.19.8"
            ]
          },
          "metadata": {}
        },
        {
          "output_type": "display_data",
          "data": {
            "text/plain": [
              "<IPython.core.display.HTML object>"
            ],
            "text/html": [
              "Run data is saved locally in <code>/content/drive/MyDrive/uc/wandb/run-20250319_112509-x44hwsm5</code>"
            ]
          },
          "metadata": {}
        },
        {
          "output_type": "display_data",
          "data": {
            "text/plain": [
              "<IPython.core.display.HTML object>"
            ],
            "text/html": [
              "Syncing run <strong><a href='https://wandb.ai/fngwenya-z/my-ucmayo4-tuning-optuna/runs/x44hwsm5' target=\"_blank\">lively-water-20</a></strong> to <a href='https://wandb.ai/fngwenya-z/my-ucmayo4-tuning-optuna' target=\"_blank\">Weights & Biases</a> (<a href='https://wandb.me/developer-guide' target=\"_blank\">docs</a>)<br>"
            ]
          },
          "metadata": {}
        },
        {
          "output_type": "display_data",
          "data": {
            "text/plain": [
              "<IPython.core.display.HTML object>"
            ],
            "text/html": [
              " View project at <a href='https://wandb.ai/fngwenya-z/my-ucmayo4-tuning-optuna' target=\"_blank\">https://wandb.ai/fngwenya-z/my-ucmayo4-tuning-optuna</a>"
            ]
          },
          "metadata": {}
        },
        {
          "output_type": "display_data",
          "data": {
            "text/plain": [
              "<IPython.core.display.HTML object>"
            ],
            "text/html": [
              " View run at <a href='https://wandb.ai/fngwenya-z/my-ucmayo4-tuning-optuna/runs/x44hwsm5' target=\"_blank\">https://wandb.ai/fngwenya-z/my-ucmayo4-tuning-optuna/runs/x44hwsm5</a>"
            ]
          },
          "metadata": {}
        },
        {
          "output_type": "stream",
          "name": "stderr",
          "text": [
            "/usr/local/lib/python3.11/dist-packages/torchvision/models/_utils.py:208: UserWarning: The parameter 'pretrained' is deprecated since 0.13 and may be removed in the future, please use 'weights' instead.\n",
            "  warnings.warn(\n",
            "/usr/local/lib/python3.11/dist-packages/torchvision/models/_utils.py:223: UserWarning: Arguments other than a weight enum or `None` for 'weights' are deprecated since 0.13 and may be removed in the future. The current behavior is equivalent to passing `weights=DenseNet121_Weights.IMAGENET1K_V1`. You can also use `weights=DenseNet121_Weights.DEFAULT` to get the most up-to-date weights.\n",
            "  warnings.warn(msg)\n"
          ]
        },
        {
          "output_type": "display_data",
          "data": {
            "text/plain": [
              "<IPython.core.display.HTML object>"
            ],
            "text/html": []
          },
          "metadata": {}
        },
        {
          "output_type": "display_data",
          "data": {
            "text/plain": [
              "<IPython.core.display.HTML object>"
            ],
            "text/html": [
              "<br>    <style><br>        .wandb-row {<br>            display: flex;<br>            flex-direction: row;<br>            flex-wrap: wrap;<br>            justify-content: flex-start;<br>            width: 100%;<br>        }<br>        .wandb-col {<br>            display: flex;<br>            flex-direction: column;<br>            flex-basis: 100%;<br>            flex: 1;<br>            padding: 10px;<br>        }<br>    </style><br><div class=\"wandb-row\"><div class=\"wandb-col\"><h3>Run history:</h3><br/><table class=\"wandb\"><tr><td>combined_score</td><td>▁</td></tr><tr><td>epoch</td><td>▁</td></tr><tr><td>train_loss</td><td>▁</td></tr><tr><td>val_acc</td><td>▁</td></tr><tr><td>val_loss</td><td>▁</td></tr></table><br/></div><div class=\"wandb-col\"><h3>Run summary:</h3><br/><table class=\"wandb\"><tr><td>combined_score</td><td>0.57652</td></tr><tr><td>epoch</td><td>1</td></tr><tr><td>train_loss</td><td>10963.46964</td></tr><tr><td>val_acc</td><td>0.8869</td></tr><tr><td>val_loss</td><td>10349.44976</td></tr></table><br/></div></div>"
            ]
          },
          "metadata": {}
        },
        {
          "output_type": "display_data",
          "data": {
            "text/plain": [
              "<IPython.core.display.HTML object>"
            ],
            "text/html": [
              " View run <strong style=\"color:#cdcd00\">lively-water-20</strong> at: <a href='https://wandb.ai/fngwenya-z/my-ucmayo4-tuning-optuna/runs/x44hwsm5' target=\"_blank\">https://wandb.ai/fngwenya-z/my-ucmayo4-tuning-optuna/runs/x44hwsm5</a><br> View project at: <a href='https://wandb.ai/fngwenya-z/my-ucmayo4-tuning-optuna' target=\"_blank\">https://wandb.ai/fngwenya-z/my-ucmayo4-tuning-optuna</a><br>Synced 5 W&B file(s), 0 media file(s), 0 artifact file(s) and 0 other file(s)"
            ]
          },
          "metadata": {}
        },
        {
          "output_type": "display_data",
          "data": {
            "text/plain": [
              "<IPython.core.display.HTML object>"
            ],
            "text/html": [
              "Find logs at: <code>./wandb/run-20250319_112509-x44hwsm5/logs</code>"
            ]
          },
          "metadata": {}
        },
        {
          "output_type": "stream",
          "name": "stderr",
          "text": [
            "[I 2025-03-19 11:27:41,905] Trial 8 pruned. \n",
            "<ipython-input-4-fb1c5ebf706b>:70: FutureWarning: suggest_loguniform has been deprecated in v3.0.0. This feature will be removed in v6.0.0. See https://github.com/optuna/optuna/releases/tag/v3.0.0. Use suggest_float(..., log=True) instead.\n",
            "  learning_rate = trial.suggest_loguniform(\"learning_rate\", 1e-4, 1e-2)\n"
          ]
        },
        {
          "output_type": "display_data",
          "data": {
            "text/plain": [
              "<IPython.core.display.HTML object>"
            ],
            "text/html": [
              "Tracking run with wandb version 0.19.8"
            ]
          },
          "metadata": {}
        },
        {
          "output_type": "display_data",
          "data": {
            "text/plain": [
              "<IPython.core.display.HTML object>"
            ],
            "text/html": [
              "Run data is saved locally in <code>/content/drive/MyDrive/uc/wandb/run-20250319_112741-oiw2xdx3</code>"
            ]
          },
          "metadata": {}
        },
        {
          "output_type": "display_data",
          "data": {
            "text/plain": [
              "<IPython.core.display.HTML object>"
            ],
            "text/html": [
              "Syncing run <strong><a href='https://wandb.ai/fngwenya-z/my-ucmayo4-tuning-optuna/runs/oiw2xdx3' target=\"_blank\">fanciful-snowball-21</a></strong> to <a href='https://wandb.ai/fngwenya-z/my-ucmayo4-tuning-optuna' target=\"_blank\">Weights & Biases</a> (<a href='https://wandb.me/developer-guide' target=\"_blank\">docs</a>)<br>"
            ]
          },
          "metadata": {}
        },
        {
          "output_type": "display_data",
          "data": {
            "text/plain": [
              "<IPython.core.display.HTML object>"
            ],
            "text/html": [
              " View project at <a href='https://wandb.ai/fngwenya-z/my-ucmayo4-tuning-optuna' target=\"_blank\">https://wandb.ai/fngwenya-z/my-ucmayo4-tuning-optuna</a>"
            ]
          },
          "metadata": {}
        },
        {
          "output_type": "display_data",
          "data": {
            "text/plain": [
              "<IPython.core.display.HTML object>"
            ],
            "text/html": [
              " View run at <a href='https://wandb.ai/fngwenya-z/my-ucmayo4-tuning-optuna/runs/oiw2xdx3' target=\"_blank\">https://wandb.ai/fngwenya-z/my-ucmayo4-tuning-optuna/runs/oiw2xdx3</a>"
            ]
          },
          "metadata": {}
        },
        {
          "output_type": "stream",
          "name": "stderr",
          "text": [
            "/usr/local/lib/python3.11/dist-packages/torchvision/models/_utils.py:208: UserWarning: The parameter 'pretrained' is deprecated since 0.13 and may be removed in the future, please use 'weights' instead.\n",
            "  warnings.warn(\n",
            "/usr/local/lib/python3.11/dist-packages/torchvision/models/_utils.py:223: UserWarning: Arguments other than a weight enum or `None` for 'weights' are deprecated since 0.13 and may be removed in the future. The current behavior is equivalent to passing `weights=DenseNet121_Weights.IMAGENET1K_V1`. You can also use `weights=DenseNet121_Weights.DEFAULT` to get the most up-to-date weights.\n",
            "  warnings.warn(msg)\n"
          ]
        },
        {
          "output_type": "display_data",
          "data": {
            "text/plain": [
              "<IPython.core.display.HTML object>"
            ],
            "text/html": []
          },
          "metadata": {}
        },
        {
          "output_type": "display_data",
          "data": {
            "text/plain": [
              "<IPython.core.display.HTML object>"
            ],
            "text/html": [
              "<br>    <style><br>        .wandb-row {<br>            display: flex;<br>            flex-direction: row;<br>            flex-wrap: wrap;<br>            justify-content: flex-start;<br>            width: 100%;<br>        }<br>        .wandb-col {<br>            display: flex;<br>            flex-direction: column;<br>            flex-basis: 100%;<br>            flex: 1;<br>            padding: 10px;<br>        }<br>    </style><br><div class=\"wandb-row\"><div class=\"wandb-col\"><h3>Run history:</h3><br/><table class=\"wandb\"><tr><td>combined_score</td><td>▁</td></tr><tr><td>epoch</td><td>▁</td></tr><tr><td>train_loss</td><td>▁</td></tr><tr><td>val_acc</td><td>▁</td></tr><tr><td>val_loss</td><td>▁</td></tr></table><br/></div><div class=\"wandb-col\"><h3>Run summary:</h3><br/><table class=\"wandb\"><tr><td>combined_score</td><td>0.60351</td></tr><tr><td>epoch</td><td>1</td></tr><tr><td>train_loss</td><td>11373.9464</td></tr><tr><td>val_acc</td><td>0.92843</td></tr><tr><td>val_loss</td><td>11163.4185</td></tr></table><br/></div></div>"
            ]
          },
          "metadata": {}
        },
        {
          "output_type": "display_data",
          "data": {
            "text/plain": [
              "<IPython.core.display.HTML object>"
            ],
            "text/html": [
              " View run <strong style=\"color:#cdcd00\">fanciful-snowball-21</strong> at: <a href='https://wandb.ai/fngwenya-z/my-ucmayo4-tuning-optuna/runs/oiw2xdx3' target=\"_blank\">https://wandb.ai/fngwenya-z/my-ucmayo4-tuning-optuna/runs/oiw2xdx3</a><br> View project at: <a href='https://wandb.ai/fngwenya-z/my-ucmayo4-tuning-optuna' target=\"_blank\">https://wandb.ai/fngwenya-z/my-ucmayo4-tuning-optuna</a><br>Synced 5 W&B file(s), 0 media file(s), 0 artifact file(s) and 0 other file(s)"
            ]
          },
          "metadata": {}
        },
        {
          "output_type": "display_data",
          "data": {
            "text/plain": [
              "<IPython.core.display.HTML object>"
            ],
            "text/html": [
              "Find logs at: <code>./wandb/run-20250319_112741-oiw2xdx3/logs</code>"
            ]
          },
          "metadata": {}
        },
        {
          "output_type": "stream",
          "name": "stderr",
          "text": [
            "[I 2025-03-19 11:30:15,676] Trial 9 pruned. \n"
          ]
        },
        {
          "output_type": "stream",
          "name": "stdout",
          "text": [
            "Best trial:\n",
            "  Value (combined_score): 0.9070930246549063\n",
            "  Params:\n",
            "    model_type: Dropout\n",
            "    dropout_rate: 0.2\n",
            "    learning_rate: 0.00039247966591329894\n",
            "    batch_size: 32\n"
          ]
        }
      ]
    },
    {
      "cell_type": "code",
      "source": [],
      "metadata": {
        "id": "NQXptx6L0xTi"
      },
      "execution_count": null,
      "outputs": []
    },
    {
      "cell_type": "code",
      "source": [
        "#!pip install ray[tune] wandb"
      ],
      "metadata": {
        "colab": {
          "base_uri": "https://localhost:8080/"
        },
        "id": "BI7sqsZPVIQR",
        "outputId": "7c5b7031-3a6b-456e-9ce3-76585d5ee877"
      },
      "execution_count": null,
      "outputs": [
        {
          "output_type": "stream",
          "name": "stdout",
          "text": [
            "Requirement already satisfied: wandb in /usr/local/lib/python3.11/dist-packages (0.19.8)\n",
            "Collecting ray[tune]\n",
            "  Downloading ray-2.43.0-cp311-cp311-manylinux2014_x86_64.whl.metadata (19 kB)\n",
            "Requirement already satisfied: click>=7.0 in /usr/local/lib/python3.11/dist-packages (from ray[tune]) (8.1.8)\n",
            "Requirement already satisfied: filelock in /usr/local/lib/python3.11/dist-packages (from ray[tune]) (3.17.0)\n",
            "Requirement already satisfied: jsonschema in /usr/local/lib/python3.11/dist-packages (from ray[tune]) (4.23.0)\n",
            "Requirement already satisfied: msgpack<2.0.0,>=1.0.0 in /usr/local/lib/python3.11/dist-packages (from ray[tune]) (1.1.0)\n",
            "Requirement already satisfied: packaging in /usr/local/lib/python3.11/dist-packages (from ray[tune]) (24.2)\n",
            "Requirement already satisfied: protobuf!=3.19.5,>=3.15.3 in /usr/local/lib/python3.11/dist-packages (from ray[tune]) (4.25.6)\n",
            "Requirement already satisfied: pyyaml in /usr/local/lib/python3.11/dist-packages (from ray[tune]) (6.0.2)\n",
            "Requirement already satisfied: aiosignal in /usr/local/lib/python3.11/dist-packages (from ray[tune]) (1.3.2)\n",
            "Requirement already satisfied: frozenlist in /usr/local/lib/python3.11/dist-packages (from ray[tune]) (1.5.0)\n",
            "Requirement already satisfied: requests in /usr/local/lib/python3.11/dist-packages (from ray[tune]) (2.32.3)\n",
            "Requirement already satisfied: pandas in /usr/local/lib/python3.11/dist-packages (from ray[tune]) (2.2.2)\n",
            "Collecting tensorboardX>=1.9 (from ray[tune])\n",
            "  Downloading tensorboardX-2.6.2.2-py2.py3-none-any.whl.metadata (5.8 kB)\n",
            "Requirement already satisfied: pyarrow>=9.0.0 in /usr/local/lib/python3.11/dist-packages (from ray[tune]) (18.1.0)\n",
            "Requirement already satisfied: fsspec in /usr/local/lib/python3.11/dist-packages (from ray[tune]) (2024.10.0)\n",
            "Requirement already satisfied: docker-pycreds>=0.4.0 in /usr/local/lib/python3.11/dist-packages (from wandb) (0.4.0)\n",
            "Requirement already satisfied: gitpython!=3.1.29,>=1.0.0 in /usr/local/lib/python3.11/dist-packages (from wandb) (3.1.44)\n",
            "Requirement already satisfied: platformdirs in /usr/local/lib/python3.11/dist-packages (from wandb) (4.3.6)\n",
            "Requirement already satisfied: psutil>=5.0.0 in /usr/local/lib/python3.11/dist-packages (from wandb) (5.9.5)\n",
            "Requirement already satisfied: pydantic<3,>=2.6 in /usr/local/lib/python3.11/dist-packages (from wandb) (2.10.6)\n",
            "Requirement already satisfied: sentry-sdk>=2.0.0 in /usr/local/lib/python3.11/dist-packages (from wandb) (2.22.0)\n",
            "Requirement already satisfied: setproctitle in /usr/local/lib/python3.11/dist-packages (from wandb) (1.3.5)\n",
            "Requirement already satisfied: setuptools in /usr/local/lib/python3.11/dist-packages (from wandb) (75.1.0)\n",
            "Requirement already satisfied: typing-extensions<5,>=4.4 in /usr/local/lib/python3.11/dist-packages (from wandb) (4.12.2)\n",
            "Requirement already satisfied: six>=1.4.0 in /usr/local/lib/python3.11/dist-packages (from docker-pycreds>=0.4.0->wandb) (1.17.0)\n",
            "Requirement already satisfied: gitdb<5,>=4.0.1 in /usr/local/lib/python3.11/dist-packages (from gitpython!=3.1.29,>=1.0.0->wandb) (4.0.12)\n",
            "Requirement already satisfied: annotated-types>=0.6.0 in /usr/local/lib/python3.11/dist-packages (from pydantic<3,>=2.6->wandb) (0.7.0)\n",
            "Requirement already satisfied: pydantic-core==2.27.2 in /usr/local/lib/python3.11/dist-packages (from pydantic<3,>=2.6->wandb) (2.27.2)\n",
            "Requirement already satisfied: charset-normalizer<4,>=2 in /usr/local/lib/python3.11/dist-packages (from requests->ray[tune]) (3.4.1)\n",
            "Requirement already satisfied: idna<4,>=2.5 in /usr/local/lib/python3.11/dist-packages (from requests->ray[tune]) (3.10)\n",
            "Requirement already satisfied: urllib3<3,>=1.21.1 in /usr/local/lib/python3.11/dist-packages (from requests->ray[tune]) (2.3.0)\n",
            "Requirement already satisfied: certifi>=2017.4.17 in /usr/local/lib/python3.11/dist-packages (from requests->ray[tune]) (2025.1.31)\n",
            "Requirement already satisfied: numpy in /usr/local/lib/python3.11/dist-packages (from tensorboardX>=1.9->ray[tune]) (2.0.2)\n",
            "Requirement already satisfied: attrs>=22.2.0 in /usr/local/lib/python3.11/dist-packages (from jsonschema->ray[tune]) (25.3.0)\n",
            "Requirement already satisfied: jsonschema-specifications>=2023.03.6 in /usr/local/lib/python3.11/dist-packages (from jsonschema->ray[tune]) (2024.10.1)\n",
            "Requirement already satisfied: referencing>=0.28.4 in /usr/local/lib/python3.11/dist-packages (from jsonschema->ray[tune]) (0.36.2)\n",
            "Requirement already satisfied: rpds-py>=0.7.1 in /usr/local/lib/python3.11/dist-packages (from jsonschema->ray[tune]) (0.23.1)\n",
            "Requirement already satisfied: python-dateutil>=2.8.2 in /usr/local/lib/python3.11/dist-packages (from pandas->ray[tune]) (2.8.2)\n",
            "Requirement already satisfied: pytz>=2020.1 in /usr/local/lib/python3.11/dist-packages (from pandas->ray[tune]) (2025.1)\n",
            "Requirement already satisfied: tzdata>=2022.7 in /usr/local/lib/python3.11/dist-packages (from pandas->ray[tune]) (2025.1)\n",
            "Requirement already satisfied: smmap<6,>=3.0.1 in /usr/local/lib/python3.11/dist-packages (from gitdb<5,>=4.0.1->gitpython!=3.1.29,>=1.0.0->wandb) (5.0.2)\n",
            "Downloading tensorboardX-2.6.2.2-py2.py3-none-any.whl (101 kB)\n",
            "\u001b[2K   \u001b[90m━━━━━━━━━━━━━━━━━━━━━━━━━━━━━━━━━━━━━━━━\u001b[0m \u001b[32m101.7/101.7 kB\u001b[0m \u001b[31m9.0 MB/s\u001b[0m eta \u001b[36m0:00:00\u001b[0m\n",
            "\u001b[?25hDownloading ray-2.43.0-cp311-cp311-manylinux2014_x86_64.whl (67.7 MB)\n",
            "\u001b[2K   \u001b[90m━━━━━━━━━━━━━━━━━━━━━━━━━━━━━━━━━━━━━━━━\u001b[0m \u001b[32m67.7/67.7 MB\u001b[0m \u001b[31m33.5 MB/s\u001b[0m eta \u001b[36m0:00:00\u001b[0m\n",
            "\u001b[?25hInstalling collected packages: tensorboardX, ray\n",
            "Successfully installed ray-2.43.0 tensorboardX-2.6.2.2\n"
          ]
        }
      ]
    }
  ]
}